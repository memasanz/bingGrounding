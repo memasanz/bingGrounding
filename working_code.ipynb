{
 "cells": [
  {
   "cell_type": "markdown",
   "metadata": {},
   "source": [
    "Using Bing to gound an LLM\n",
    "Option 1: Grounding with Bing Search Resource https://learn.microsoft.com/en-us/azure/ai-services/agents/how-to/tools/bing-grounding?tabs=python&pivots=code-example\n",
    "For the Bing Grounding, you wnat to make sure you deploy an Bind Grounding Resource.\n",
    "\n",
    "https://www.microsoft.com/en-us/bing/apis/grounding-pricing?msockid=1960216b4b5f6a921268355a4acc6b0a\n",
    "\n",
    "https://ms.portal.azure.com/#create/Microsoft.BingGroundingSearch\n",
    "\n",
    "Option 2:\n",
    "Make API call to Custom Search Bing Resource."
   ]
  },
  {
   "cell_type": "code",
   "execution_count": null,
   "metadata": {},
   "outputs": [],
   "source": [
    "print('hello world')"
   ]
  },
  {
   "cell_type": "code",
   "execution_count": null,
   "metadata": {},
   "outputs": [],
   "source": [
    "from dotenv import load_dotenv \n",
    "import os # Load the .env file \n",
    "load_dotenv(override=True)"
   ]
  },
  {
   "cell_type": "code",
   "execution_count": null,
   "metadata": {},
   "outputs": [],
   "source": [
    "print(os.environ[\"MODEL_DEPLOYMENT_NAME\"])"
   ]
  },
  {
   "cell_type": "markdown",
   "metadata": {},
   "source": [
    "## Agent with Bing Grounding"
   ]
  },
  {
   "cell_type": "code",
   "execution_count": null,
   "metadata": {},
   "outputs": [],
   "source": [
    "import os\n",
    "from azure.ai.projects import AIProjectClient\n",
    "from azure.identity import DefaultAzureCredential\n",
    "from azure.ai.projects.models import BingGroundingTool\n",
    "\n",
    "\n",
    "project_client = AIProjectClient.from_connection_string(\n",
    "    credential=DefaultAzureCredential(),\n",
    "    conn_str=os.environ[\"PROJECT_CONNECTION_STRING\"],\n",
    ")\n",
    "\n",
    "# [START create_agent_with_bing_grounding_tool]\n",
    "bing_connection = project_client.connections.get(connection_name=os.environ[\"BING_CONNECTION_NAME\"])\n",
    "conn_id = bing_connection.id\n",
    "\n",
    "print(conn_id)\n",
    "\n",
    "# Initialize agent bing tool and add the connection id\n",
    "bing = BingGroundingTool(connection_id=conn_id)\n",
    "\n",
    "# Create agent with the bing tool and process assistant run\n",
    "with project_client:\n",
    "    agent = project_client.agents.create_agent(\n",
    "        model=os.environ[\"MODEL_DEPLOYMENT_NAME\"],\n",
    "        name=\"my-assistant\",\n",
    "        instructions=\"You are a helpful assistant\",\n",
    "        tools=bing.definitions,\n",
    "        headers={\"x-ms-enable-preview\": \"true\"},\n",
    "    )\n",
    "    # [END create_agent_with_bing_grounding_tool]\n",
    "\n",
    "    print(f\"Created agent, ID: {agent.id}\")\n",
    "\n",
    "    # Create thread for communication\n",
    "    thread = project_client.agents.create_thread()\n",
    "    print(f\"Created thread, ID: {thread.id}\")\n",
    "\n",
    "    # Create message to thread\n",
    "    message = project_client.agents.create_message(\n",
    "        thread_id=thread.id,\n",
    "        role=\"user\",\n",
    "        content=\"What is the top news today\",\n",
    "    )\n",
    "    print(f\"Created message, ID: {message.id}\")\n",
    "\n",
    "    # Create and process agent run in thread with tools\n",
    "    run = project_client.agents.create_and_process_run(thread_id=thread.id, assistant_id=agent.id)\n",
    "    print(f\"Run finished with status: {run.status}\")\n",
    "\n",
    "    if run.status == \"failed\":\n",
    "        print(f\"Run failed: {run.last_error}\")\n",
    "\n",
    "    # Delete the assistant when done\n",
    "    project_client.agents.delete_agent(agent.id)\n",
    "    print(\"Deleted agent\")\n",
    "\n",
    "    # Fetch and log all messages\n",
    "    messages = project_client.agents.list_messages(thread_id=thread.id)\n",
    "    print(f\"Messages: {messages}\")"
   ]
  },
  {
   "cell_type": "code",
   "execution_count": null,
   "metadata": {},
   "outputs": [],
   "source": [
    "\n",
    "data = messages.as_dict()\n",
    "listmessages = data['data']  \n",
    "  \n",
    "for msg in listmessages:  \n",
    "    content = msg['content'][0]['text']['value']  \n",
    "    annotations = msg['content'][0]['text']['annotations']\n",
    "    print(content)\n",
    "    print(annotations)"
   ]
  },
  {
   "cell_type": "markdown",
   "metadata": {},
   "source": [
    "Bing Custom Search SDK\n",
    "https://github.com/Azure-Samples/cognitive-services-python-sdk-samples/tree/master?tab=readme-ov-file\n"
   ]
  },
  {
   "cell_type": "code",
   "execution_count": null,
   "metadata": {},
   "outputs": [],
   "source": [
    "import os\n",
    "\n",
    "from azure.cognitiveservices.search.customsearch import CustomSearchClient\n",
    "from msrest.authentication import CognitiveServicesCredentials\n",
    "\n",
    "load_dotenv(override=True)"
   ]
  },
  {
   "cell_type": "code",
   "execution_count": null,
   "metadata": {},
   "outputs": [],
   "source": [
    "subscriptionKey = os.environ['BING_CUSTOM_SEARCH_SUBSCRIPTION_KEY']\n",
    "endpoint = os.environ['BING_CUSTOM_SEARCH_ENDPOINT']\n",
    "customConfigId = os.environ[\"BING_CUSTOM_CONFIG\"]  # you can also use \"1\"\n",
    "\n",
    "print(subscriptionKey)\n",
    "print(endpoint)\n",
    "print(customConfigId)"
   ]
  },
  {
   "cell_type": "code",
   "execution_count": null,
   "metadata": {},
   "outputs": [],
   "source": [
    "\n",
    "# Copyright (c) Microsoft Corporation. All rights reserved.\n",
    "# Licensed under the MIT License.\n",
    "\n",
    "# You may need the below as well\n",
    "# pip install pipenv\n",
    "# pipenv install requests\n",
    "# <importsAndVars>\n",
    "import json\n",
    "import os\n",
    "from pprint import pprint\n",
    "import requests \n",
    "\n",
    "'''\n",
    "This sample uses the Bing Custom Search API to search for a query topic and get back user-controlled web page results.\n",
    "Bing Custom Search API: https://docs.microsoft.com/en-us/bing/search-apis/bing-custom-search/overview \n",
    "'''\n",
    "\n",
    "# Add your Bing Custom Search subscription key and endpoint to your environment variables.\n",
    "subscriptionKey = os.environ['BING_CUSTOM_SEARCH_SUBSCRIPTION_KEY']\n",
    "endpoint = os.environ['BING_CUSTOM_SEARCH_ENDPOINT']\n",
    "customConfigId = os.environ[\"BING_CUSTOM_CONFIG\"]  # you can also use \"1\"\n",
    "searchTerm = \"microsoft\"\n",
    "\n",
    "print(subscriptionKey)\n",
    "print(endpoint)\n",
    "print(customConfigId)\n",
    "# </importsAndVars>\n",
    "# <url>\n",
    "# Add your Bing Custom Search endpoint to your environment variables.\n",
    "url = endpoint + \"/v7.0/custom/search?q=\" + searchTerm + \"&customconfig=\" + customConfigId\n",
    "# </url>\n",
    "# <request>\n",
    "r = requests.get(url, headers={'Ocp-Apim-Subscription-Key': subscriptionKey})\n",
    "pprint(json.loads(r.text))\n",
    "# </request>"
   ]
  },
  {
   "cell_type": "code",
   "execution_count": null,
   "metadata": {},
   "outputs": [],
   "source": [
    "\n",
    "\n",
    "\n",
    "\n",
    "def custom_search_web_page_result_lookup():\n",
    "    \"\"\"CustomSearch.\n",
    "\n",
    "    This will look up a single query (Xbox) and print out name and url for first web result.\n",
    "    \"\"\"\n",
    "\n",
    "    client = CustomSearchClient(\n",
    "        endpoint=url,\n",
    "        credentials=CognitiveServicesCredentials(subscriptionKey))\n",
    "\n",
    "    try:\n",
    "        web_data = client.custom_instance.search(query=\"xbox\", custom_config=1)\n",
    "        print(\"Searched for Query 'xbox'\")\n",
    "\n",
    "        if web_data.web_pages.value:\n",
    "            first_web_result = web_data.web_pages.value[0]\n",
    "            print(\"Web Pages result count: {}\".format(\n",
    "                len(web_data.web_pages.value)))\n",
    "            print(\"First Web Page name: {}\".format(first_web_result.name))\n",
    "            print(\"First Web Page url: {}\".format(first_web_result.url))\n",
    "        else:\n",
    "            print(\"Didn't see any web data..\")\n",
    "\n",
    "    except Exception as err:\n",
    "        print(\"Encountered exception. {}\".format(err))\n",
    "\n",
    "\n",
    "if __name__ == \"__main__\":\n",
    "   custom_search_web_page_result_lookup()"
   ]
  },
  {
   "cell_type": "code",
   "execution_count": null,
   "metadata": {},
   "outputs": [],
   "source": []
  }
 ],
 "metadata": {
  "kernelspec": {
   "display_name": ".venv",
   "language": "python",
   "name": "python3"
  },
  "language_info": {
   "codemirror_mode": {
    "name": "ipython",
    "version": 3
   },
   "file_extension": ".py",
   "mimetype": "text/x-python",
   "name": "python",
   "nbconvert_exporter": "python",
   "pygments_lexer": "ipython3",
   "version": "3.13.2"
  }
 },
 "nbformat": 4,
 "nbformat_minor": 2
}
